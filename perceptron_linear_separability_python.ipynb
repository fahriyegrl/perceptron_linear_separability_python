{
  "nbformat": 4,
  "nbformat_minor": 0,
  "metadata": {
    "kernelspec": {
      "display_name": "Python 3",
      "language": "python",
      "name": "python3"
    },
    "language_info": {
      "codemirror_mode": {
        "name": "ipython",
        "version": 3
      },
      "file_extension": ".py",
      "mimetype": "text/x-python",
      "name": "python",
      "nbconvert_exporter": "python",
      "pygments_lexer": "ipython3",
      "version": "3.7.4"
    },
    "colab": {
      "provenance": [],
      "include_colab_link": true
    }
  },
  "cells": [
    {
      "cell_type": "markdown",
      "metadata": {
        "id": "view-in-github",
        "colab_type": "text"
      },
      "source": [
        "<a href=\"https://colab.research.google.com/github/fahriyegrl/perceptron_linear_separability_python/blob/main/perceptron_linear_separability_python.ipynb\" target=\"_parent\"><img src=\"https://colab.research.google.com/assets/colab-badge.svg\" alt=\"Open In Colab\"/></a>"
      ]
    },
    {
      "cell_type": "markdown",
      "metadata": {
        "id": "XFiUns92s5A3"
      },
      "source": [
        "## Preparation Steps"
      ]
    },
    {
      "cell_type": "code",
      "metadata": {
        "id": "7LI03-u2s5A3"
      },
      "source": [
        "# Import all necessary python packages\n",
        "import numpy as np\n",
        "import os\n",
        "import pandas as pd\n",
        "import matplotlib.pyplot as plt\n",
        "from matplotlib.colors import ListedColormap"
      ],
      "execution_count": null,
      "outputs": []
    },
    {
      "cell_type": "code",
      "metadata": {
        "id": "T_yXB--1s5A7",
        "outputId": "e89e735f-1da7-46c5-c642-5a86bcd492ef",
        "colab": {
          "base_uri": "https://localhost:8080/"
        }
      },
      "source": [
        "# ### Loading the Iris data\n",
        "\n",
        "s = os.path.join('https://archive.ics.uci.edu', 'ml',\n",
        "                 'machine-learning-databases', 'iris','iris.data')\n",
        "s = s.replace(\"\\\\\",\"/\");\n",
        "print('URL:', s)\n",
        "df = pd.read_csv(s,header=None,encoding='utf-8')\n"
      ],
      "execution_count": null,
      "outputs": [
        {
          "output_type": "stream",
          "name": "stdout",
          "text": [
            "URL: https://archive.ics.uci.edu/ml/machine-learning-databases/iris/iris.data\n"
          ]
        }
      ]
    },
    {
      "cell_type": "code",
      "source": [
        "df"
      ],
      "metadata": {
        "id": "MEwROIvaG2Wr",
        "outputId": "f8284abc-2f3f-4cef-af6e-08b6c6e61f4e",
        "colab": {
          "base_uri": "https://localhost:8080/",
          "height": 423
        }
      },
      "execution_count": null,
      "outputs": [
        {
          "output_type": "execute_result",
          "data": {
            "text/plain": [
              "       0    1    2    3               4\n",
              "0    5.1  3.5  1.4  0.2     Iris-setosa\n",
              "1    4.9  3.0  1.4  0.2     Iris-setosa\n",
              "2    4.7  3.2  1.3  0.2     Iris-setosa\n",
              "3    4.6  3.1  1.5  0.2     Iris-setosa\n",
              "4    5.0  3.6  1.4  0.2     Iris-setosa\n",
              "..   ...  ...  ...  ...             ...\n",
              "145  6.7  3.0  5.2  2.3  Iris-virginica\n",
              "146  6.3  2.5  5.0  1.9  Iris-virginica\n",
              "147  6.5  3.0  5.2  2.0  Iris-virginica\n",
              "148  6.2  3.4  5.4  2.3  Iris-virginica\n",
              "149  5.9  3.0  5.1  1.8  Iris-virginica\n",
              "\n",
              "[150 rows x 5 columns]"
            ],
            "text/html": [
              "\n",
              "  <div id=\"df-ffd6a1d9-c667-4186-9674-7ffbb7d4f82f\" class=\"colab-df-container\">\n",
              "    <div>\n",
              "<style scoped>\n",
              "    .dataframe tbody tr th:only-of-type {\n",
              "        vertical-align: middle;\n",
              "    }\n",
              "\n",
              "    .dataframe tbody tr th {\n",
              "        vertical-align: top;\n",
              "    }\n",
              "\n",
              "    .dataframe thead th {\n",
              "        text-align: right;\n",
              "    }\n",
              "</style>\n",
              "<table border=\"1\" class=\"dataframe\">\n",
              "  <thead>\n",
              "    <tr style=\"text-align: right;\">\n",
              "      <th></th>\n",
              "      <th>0</th>\n",
              "      <th>1</th>\n",
              "      <th>2</th>\n",
              "      <th>3</th>\n",
              "      <th>4</th>\n",
              "    </tr>\n",
              "  </thead>\n",
              "  <tbody>\n",
              "    <tr>\n",
              "      <th>0</th>\n",
              "      <td>5.1</td>\n",
              "      <td>3.5</td>\n",
              "      <td>1.4</td>\n",
              "      <td>0.2</td>\n",
              "      <td>Iris-setosa</td>\n",
              "    </tr>\n",
              "    <tr>\n",
              "      <th>1</th>\n",
              "      <td>4.9</td>\n",
              "      <td>3.0</td>\n",
              "      <td>1.4</td>\n",
              "      <td>0.2</td>\n",
              "      <td>Iris-setosa</td>\n",
              "    </tr>\n",
              "    <tr>\n",
              "      <th>2</th>\n",
              "      <td>4.7</td>\n",
              "      <td>3.2</td>\n",
              "      <td>1.3</td>\n",
              "      <td>0.2</td>\n",
              "      <td>Iris-setosa</td>\n",
              "    </tr>\n",
              "    <tr>\n",
              "      <th>3</th>\n",
              "      <td>4.6</td>\n",
              "      <td>3.1</td>\n",
              "      <td>1.5</td>\n",
              "      <td>0.2</td>\n",
              "      <td>Iris-setosa</td>\n",
              "    </tr>\n",
              "    <tr>\n",
              "      <th>4</th>\n",
              "      <td>5.0</td>\n",
              "      <td>3.6</td>\n",
              "      <td>1.4</td>\n",
              "      <td>0.2</td>\n",
              "      <td>Iris-setosa</td>\n",
              "    </tr>\n",
              "    <tr>\n",
              "      <th>...</th>\n",
              "      <td>...</td>\n",
              "      <td>...</td>\n",
              "      <td>...</td>\n",
              "      <td>...</td>\n",
              "      <td>...</td>\n",
              "    </tr>\n",
              "    <tr>\n",
              "      <th>145</th>\n",
              "      <td>6.7</td>\n",
              "      <td>3.0</td>\n",
              "      <td>5.2</td>\n",
              "      <td>2.3</td>\n",
              "      <td>Iris-virginica</td>\n",
              "    </tr>\n",
              "    <tr>\n",
              "      <th>146</th>\n",
              "      <td>6.3</td>\n",
              "      <td>2.5</td>\n",
              "      <td>5.0</td>\n",
              "      <td>1.9</td>\n",
              "      <td>Iris-virginica</td>\n",
              "    </tr>\n",
              "    <tr>\n",
              "      <th>147</th>\n",
              "      <td>6.5</td>\n",
              "      <td>3.0</td>\n",
              "      <td>5.2</td>\n",
              "      <td>2.0</td>\n",
              "      <td>Iris-virginica</td>\n",
              "    </tr>\n",
              "    <tr>\n",
              "      <th>148</th>\n",
              "      <td>6.2</td>\n",
              "      <td>3.4</td>\n",
              "      <td>5.4</td>\n",
              "      <td>2.3</td>\n",
              "      <td>Iris-virginica</td>\n",
              "    </tr>\n",
              "    <tr>\n",
              "      <th>149</th>\n",
              "      <td>5.9</td>\n",
              "      <td>3.0</td>\n",
              "      <td>5.1</td>\n",
              "      <td>1.8</td>\n",
              "      <td>Iris-virginica</td>\n",
              "    </tr>\n",
              "  </tbody>\n",
              "</table>\n",
              "<p>150 rows × 5 columns</p>\n",
              "</div>\n",
              "    <div class=\"colab-df-buttons\">\n",
              "\n",
              "  <div class=\"colab-df-container\">\n",
              "    <button class=\"colab-df-convert\" onclick=\"convertToInteractive('df-ffd6a1d9-c667-4186-9674-7ffbb7d4f82f')\"\n",
              "            title=\"Convert this dataframe to an interactive table.\"\n",
              "            style=\"display:none;\">\n",
              "\n",
              "  <svg xmlns=\"http://www.w3.org/2000/svg\" height=\"24px\" viewBox=\"0 -960 960 960\">\n",
              "    <path d=\"M120-120v-720h720v720H120Zm60-500h600v-160H180v160Zm220 220h160v-160H400v160Zm0 220h160v-160H400v160ZM180-400h160v-160H180v160Zm440 0h160v-160H620v160ZM180-180h160v-160H180v160Zm440 0h160v-160H620v160Z\"/>\n",
              "  </svg>\n",
              "    </button>\n",
              "\n",
              "  <style>\n",
              "    .colab-df-container {\n",
              "      display:flex;\n",
              "      gap: 12px;\n",
              "    }\n",
              "\n",
              "    .colab-df-convert {\n",
              "      background-color: #E8F0FE;\n",
              "      border: none;\n",
              "      border-radius: 50%;\n",
              "      cursor: pointer;\n",
              "      display: none;\n",
              "      fill: #1967D2;\n",
              "      height: 32px;\n",
              "      padding: 0 0 0 0;\n",
              "      width: 32px;\n",
              "    }\n",
              "\n",
              "    .colab-df-convert:hover {\n",
              "      background-color: #E2EBFA;\n",
              "      box-shadow: 0px 1px 2px rgba(60, 64, 67, 0.3), 0px 1px 3px 1px rgba(60, 64, 67, 0.15);\n",
              "      fill: #174EA6;\n",
              "    }\n",
              "\n",
              "    .colab-df-buttons div {\n",
              "      margin-bottom: 4px;\n",
              "    }\n",
              "\n",
              "    [theme=dark] .colab-df-convert {\n",
              "      background-color: #3B4455;\n",
              "      fill: #D2E3FC;\n",
              "    }\n",
              "\n",
              "    [theme=dark] .colab-df-convert:hover {\n",
              "      background-color: #434B5C;\n",
              "      box-shadow: 0px 1px 3px 1px rgba(0, 0, 0, 0.15);\n",
              "      filter: drop-shadow(0px 1px 2px rgba(0, 0, 0, 0.3));\n",
              "      fill: #FFFFFF;\n",
              "    }\n",
              "  </style>\n",
              "\n",
              "    <script>\n",
              "      const buttonEl =\n",
              "        document.querySelector('#df-ffd6a1d9-c667-4186-9674-7ffbb7d4f82f button.colab-df-convert');\n",
              "      buttonEl.style.display =\n",
              "        google.colab.kernel.accessAllowed ? 'block' : 'none';\n",
              "\n",
              "      async function convertToInteractive(key) {\n",
              "        const element = document.querySelector('#df-ffd6a1d9-c667-4186-9674-7ffbb7d4f82f');\n",
              "        const dataTable =\n",
              "          await google.colab.kernel.invokeFunction('convertToInteractive',\n",
              "                                                    [key], {});\n",
              "        if (!dataTable) return;\n",
              "\n",
              "        const docLinkHtml = 'Like what you see? Visit the ' +\n",
              "          '<a target=\"_blank\" href=https://colab.research.google.com/notebooks/data_table.ipynb>data table notebook</a>'\n",
              "          + ' to learn more about interactive tables.';\n",
              "        element.innerHTML = '';\n",
              "        dataTable['output_type'] = 'display_data';\n",
              "        await google.colab.output.renderOutput(dataTable, element);\n",
              "        const docLink = document.createElement('div');\n",
              "        docLink.innerHTML = docLinkHtml;\n",
              "        element.appendChild(docLink);\n",
              "      }\n",
              "    </script>\n",
              "  </div>\n",
              "\n",
              "\n",
              "<div id=\"df-015da559-9db1-459f-8a8d-572710611696\">\n",
              "  <button class=\"colab-df-quickchart\" onclick=\"quickchart('df-015da559-9db1-459f-8a8d-572710611696')\"\n",
              "            title=\"Suggest charts\"\n",
              "            style=\"display:none;\">\n",
              "\n",
              "<svg xmlns=\"http://www.w3.org/2000/svg\" height=\"24px\"viewBox=\"0 0 24 24\"\n",
              "     width=\"24px\">\n",
              "    <g>\n",
              "        <path d=\"M19 3H5c-1.1 0-2 .9-2 2v14c0 1.1.9 2 2 2h14c1.1 0 2-.9 2-2V5c0-1.1-.9-2-2-2zM9 17H7v-7h2v7zm4 0h-2V7h2v10zm4 0h-2v-4h2v4z\"/>\n",
              "    </g>\n",
              "</svg>\n",
              "  </button>\n",
              "\n",
              "<style>\n",
              "  .colab-df-quickchart {\n",
              "      --bg-color: #E8F0FE;\n",
              "      --fill-color: #1967D2;\n",
              "      --hover-bg-color: #E2EBFA;\n",
              "      --hover-fill-color: #174EA6;\n",
              "      --disabled-fill-color: #AAA;\n",
              "      --disabled-bg-color: #DDD;\n",
              "  }\n",
              "\n",
              "  [theme=dark] .colab-df-quickchart {\n",
              "      --bg-color: #3B4455;\n",
              "      --fill-color: #D2E3FC;\n",
              "      --hover-bg-color: #434B5C;\n",
              "      --hover-fill-color: #FFFFFF;\n",
              "      --disabled-bg-color: #3B4455;\n",
              "      --disabled-fill-color: #666;\n",
              "  }\n",
              "\n",
              "  .colab-df-quickchart {\n",
              "    background-color: var(--bg-color);\n",
              "    border: none;\n",
              "    border-radius: 50%;\n",
              "    cursor: pointer;\n",
              "    display: none;\n",
              "    fill: var(--fill-color);\n",
              "    height: 32px;\n",
              "    padding: 0;\n",
              "    width: 32px;\n",
              "  }\n",
              "\n",
              "  .colab-df-quickchart:hover {\n",
              "    background-color: var(--hover-bg-color);\n",
              "    box-shadow: 0 1px 2px rgba(60, 64, 67, 0.3), 0 1px 3px 1px rgba(60, 64, 67, 0.15);\n",
              "    fill: var(--button-hover-fill-color);\n",
              "  }\n",
              "\n",
              "  .colab-df-quickchart-complete:disabled,\n",
              "  .colab-df-quickchart-complete:disabled:hover {\n",
              "    background-color: var(--disabled-bg-color);\n",
              "    fill: var(--disabled-fill-color);\n",
              "    box-shadow: none;\n",
              "  }\n",
              "\n",
              "  .colab-df-spinner {\n",
              "    border: 2px solid var(--fill-color);\n",
              "    border-color: transparent;\n",
              "    border-bottom-color: var(--fill-color);\n",
              "    animation:\n",
              "      spin 1s steps(1) infinite;\n",
              "  }\n",
              "\n",
              "  @keyframes spin {\n",
              "    0% {\n",
              "      border-color: transparent;\n",
              "      border-bottom-color: var(--fill-color);\n",
              "      border-left-color: var(--fill-color);\n",
              "    }\n",
              "    20% {\n",
              "      border-color: transparent;\n",
              "      border-left-color: var(--fill-color);\n",
              "      border-top-color: var(--fill-color);\n",
              "    }\n",
              "    30% {\n",
              "      border-color: transparent;\n",
              "      border-left-color: var(--fill-color);\n",
              "      border-top-color: var(--fill-color);\n",
              "      border-right-color: var(--fill-color);\n",
              "    }\n",
              "    40% {\n",
              "      border-color: transparent;\n",
              "      border-right-color: var(--fill-color);\n",
              "      border-top-color: var(--fill-color);\n",
              "    }\n",
              "    60% {\n",
              "      border-color: transparent;\n",
              "      border-right-color: var(--fill-color);\n",
              "    }\n",
              "    80% {\n",
              "      border-color: transparent;\n",
              "      border-right-color: var(--fill-color);\n",
              "      border-bottom-color: var(--fill-color);\n",
              "    }\n",
              "    90% {\n",
              "      border-color: transparent;\n",
              "      border-bottom-color: var(--fill-color);\n",
              "    }\n",
              "  }\n",
              "</style>\n",
              "\n",
              "  <script>\n",
              "    async function quickchart(key) {\n",
              "      const quickchartButtonEl =\n",
              "        document.querySelector('#' + key + ' button');\n",
              "      quickchartButtonEl.disabled = true;  // To prevent multiple clicks.\n",
              "      quickchartButtonEl.classList.add('colab-df-spinner');\n",
              "      try {\n",
              "        const charts = await google.colab.kernel.invokeFunction(\n",
              "            'suggestCharts', [key], {});\n",
              "      } catch (error) {\n",
              "        console.error('Error during call to suggestCharts:', error);\n",
              "      }\n",
              "      quickchartButtonEl.classList.remove('colab-df-spinner');\n",
              "      quickchartButtonEl.classList.add('colab-df-quickchart-complete');\n",
              "    }\n",
              "    (() => {\n",
              "      let quickchartButtonEl =\n",
              "        document.querySelector('#df-015da559-9db1-459f-8a8d-572710611696 button');\n",
              "      quickchartButtonEl.style.display =\n",
              "        google.colab.kernel.accessAllowed ? 'block' : 'none';\n",
              "    })();\n",
              "  </script>\n",
              "</div>\n",
              "\n",
              "  <div id=\"id_9a608a65-e1d9-45ea-9e03-0cd16fce41c3\">\n",
              "    <style>\n",
              "      .colab-df-generate {\n",
              "        background-color: #E8F0FE;\n",
              "        border: none;\n",
              "        border-radius: 50%;\n",
              "        cursor: pointer;\n",
              "        display: none;\n",
              "        fill: #1967D2;\n",
              "        height: 32px;\n",
              "        padding: 0 0 0 0;\n",
              "        width: 32px;\n",
              "      }\n",
              "\n",
              "      .colab-df-generate:hover {\n",
              "        background-color: #E2EBFA;\n",
              "        box-shadow: 0px 1px 2px rgba(60, 64, 67, 0.3), 0px 1px 3px 1px rgba(60, 64, 67, 0.15);\n",
              "        fill: #174EA6;\n",
              "      }\n",
              "\n",
              "      [theme=dark] .colab-df-generate {\n",
              "        background-color: #3B4455;\n",
              "        fill: #D2E3FC;\n",
              "      }\n",
              "\n",
              "      [theme=dark] .colab-df-generate:hover {\n",
              "        background-color: #434B5C;\n",
              "        box-shadow: 0px 1px 3px 1px rgba(0, 0, 0, 0.15);\n",
              "        filter: drop-shadow(0px 1px 2px rgba(0, 0, 0, 0.3));\n",
              "        fill: #FFFFFF;\n",
              "      }\n",
              "    </style>\n",
              "    <button class=\"colab-df-generate\" onclick=\"generateWithVariable('df')\"\n",
              "            title=\"Generate code using this dataframe.\"\n",
              "            style=\"display:none;\">\n",
              "\n",
              "  <svg xmlns=\"http://www.w3.org/2000/svg\" height=\"24px\"viewBox=\"0 0 24 24\"\n",
              "       width=\"24px\">\n",
              "    <path d=\"M7,19H8.4L18.45,9,17,7.55,7,17.6ZM5,21V16.75L18.45,3.32a2,2,0,0,1,2.83,0l1.4,1.43a1.91,1.91,0,0,1,.58,1.4,1.91,1.91,0,0,1-.58,1.4L9.25,21ZM18.45,9,17,7.55Zm-12,3A5.31,5.31,0,0,0,4.9,8.1,5.31,5.31,0,0,0,1,6.5,5.31,5.31,0,0,0,4.9,4.9,5.31,5.31,0,0,0,6.5,1,5.31,5.31,0,0,0,8.1,4.9,5.31,5.31,0,0,0,12,6.5,5.46,5.46,0,0,0,6.5,12Z\"/>\n",
              "  </svg>\n",
              "    </button>\n",
              "    <script>\n",
              "      (() => {\n",
              "      const buttonEl =\n",
              "        document.querySelector('#id_9a608a65-e1d9-45ea-9e03-0cd16fce41c3 button.colab-df-generate');\n",
              "      buttonEl.style.display =\n",
              "        google.colab.kernel.accessAllowed ? 'block' : 'none';\n",
              "\n",
              "      buttonEl.onclick = () => {\n",
              "        google.colab.notebook.generateWithVariable('df');\n",
              "      }\n",
              "      })();\n",
              "    </script>\n",
              "  </div>\n",
              "\n",
              "    </div>\n",
              "  </div>\n"
            ],
            "application/vnd.google.colaboratory.intrinsic+json": {
              "type": "dataframe",
              "variable_name": "df",
              "summary": "{\n  \"name\": \"df\",\n  \"rows\": 150,\n  \"fields\": [\n    {\n      \"column\": 0,\n      \"properties\": {\n        \"dtype\": \"number\",\n        \"std\": 0.828066127977863,\n        \"min\": 4.3,\n        \"max\": 7.9,\n        \"num_unique_values\": 35,\n        \"samples\": [\n          6.2,\n          4.5,\n          5.6\n        ],\n        \"semantic_type\": \"\",\n        \"description\": \"\"\n      }\n    },\n    {\n      \"column\": 1,\n      \"properties\": {\n        \"dtype\": \"number\",\n        \"std\": 0.4335943113621737,\n        \"min\": 2.0,\n        \"max\": 4.4,\n        \"num_unique_values\": 23,\n        \"samples\": [\n          2.3,\n          4.0,\n          3.5\n        ],\n        \"semantic_type\": \"\",\n        \"description\": \"\"\n      }\n    },\n    {\n      \"column\": 2,\n      \"properties\": {\n        \"dtype\": \"number\",\n        \"std\": 1.7644204199522626,\n        \"min\": 1.0,\n        \"max\": 6.9,\n        \"num_unique_values\": 43,\n        \"samples\": [\n          6.7,\n          3.8,\n          3.7\n        ],\n        \"semantic_type\": \"\",\n        \"description\": \"\"\n      }\n    },\n    {\n      \"column\": 3,\n      \"properties\": {\n        \"dtype\": \"number\",\n        \"std\": 0.7631607417008411,\n        \"min\": 0.1,\n        \"max\": 2.5,\n        \"num_unique_values\": 22,\n        \"samples\": [\n          0.2,\n          1.2,\n          1.3\n        ],\n        \"semantic_type\": \"\",\n        \"description\": \"\"\n      }\n    },\n    {\n      \"column\": 4,\n      \"properties\": {\n        \"dtype\": \"category\",\n        \"num_unique_values\": 3,\n        \"samples\": [\n          \"Iris-setosa\",\n          \"Iris-versicolor\",\n          \"Iris-virginica\"\n        ],\n        \"semantic_type\": \"\",\n        \"description\": \"\"\n      }\n    }\n  ]\n}"
            }
          },
          "metadata": {},
          "execution_count": 10
        }
      ]
    },
    {
      "cell_type": "code",
      "metadata": {
        "id": "M27Ih_Jys5A-",
        "outputId": "3fe075af-8e5b-4f25-f5f1-aca85d7d658e",
        "colab": {
          "base_uri": "https://localhost:8080/",
          "height": 449
        }
      },
      "source": [
        "# select setosa and versicolor\n",
        "y = df.iloc[0:100, 4].values\n",
        "y = np.where(y == 'Iris-setosa', -1, 1)\n",
        "\n",
        "# extract sepal length and petal length\n",
        "X = df.iloc[:100, [0, 2]].values\n",
        "\n",
        "# plot data\n",
        "plt.scatter(X[:50, 0], X[:50, 1],\n",
        "            color='red', marker='o', label='setosa')\n",
        "plt.scatter(X[50:100, 0], X[50:100, 1],\n",
        "            color='blue', marker='x', label='versicolor')\n",
        "\n",
        "plt.xlabel('sepal length [cm]')\n",
        "plt.ylabel('petal length [cm]')\n",
        "plt.legend(loc='upper left')\n",
        "\n",
        "\n",
        "# plt.savefig('images/02_06.png', dpi=300)\n",
        "plt.show()"
      ],
      "execution_count": null,
      "outputs": [
        {
          "output_type": "display_data",
          "data": {
            "text/plain": [
              "<Figure size 640x480 with 1 Axes>"
            ],
            "image/png": "[encoded data removed]"
          },
          "metadata": {}
        }
      ]
    },
    {
      "cell_type": "code",
      "metadata": {
        "id": "tEFG3hqRs5BB",
        "outputId": "f6f31011-3c10-4292-e112-65db6a23b8d9",
        "colab": {
          "base_uri": "https://localhost:8080/"
        }
      },
      "source": [
        "X[5:10], y[5:10]"
      ],
      "execution_count": null,
      "outputs": [
        {
          "output_type": "execute_result",
          "data": {
            "text/plain": [
              "(array([[5.4, 1.7],\n",
              "        [4.6, 1.4],\n",
              "        [5. , 1.5],\n",
              "        [4.4, 1.4],\n",
              "        [4.9, 1.5]]),\n",
              " array([-1, -1, -1, -1, -1]))"
            ]
          },
          "metadata": {},
          "execution_count": 12
        }
      ]
    },
    {
      "cell_type": "code",
      "metadata": {
        "id": "zG3B5C1rs5BF"
      },
      "source": [
        "import numpy as np\n",
        "\n",
        "\n",
        "class Perceptron(object):\n",
        "    \"\"\"Perceptron classifier.\n",
        "\n",
        "    Parameters\n",
        "    ------------\n",
        "    n_iter : int\n",
        "      Passes over the training dataset.\n",
        "    random_state : int\n",
        "      Random number generator seed for random weight\n",
        "      initialization.\n",
        "\n",
        "    Attributes\n",
        "    -----------\n",
        "    w_ : 1d-array\n",
        "      Weights after fitting.\n",
        "    errors_ : list\n",
        "      Number of misclassifications (updates) in each epoch.\n",
        "    iter_trained : int\n",
        "      The number of iterations it took for training.\n",
        "\n",
        "    \"\"\"\n",
        "    def __init__(self, n_iter=50, random_state=1, eta=1): #I added eta for learning rate for the upcoming question, it has no affect here since it is 1.\n",
        "        self.n_iter = n_iter\n",
        "        self.random_state = random_state\n",
        "        self.iter_trained = -1\n",
        "        self.weight_history_data = [] # I added it so we can store the weights once updated.\n",
        "        self.eta = eta  # I assign the learning rate to 1. For the next question, I will assign it to different value.\n",
        "\n",
        "\n",
        "    def fit(self, X, y):\n",
        "        \"\"\"Fit training data.\n",
        "\n",
        "        Parameters\n",
        "        ----------\n",
        "        X : {array-like}, shape = [n_examples, n_features]\n",
        "          Training vectors, where n_examples is the number of examples and\n",
        "          n_features is the number of features.\n",
        "        y : array-like, shape = [n_examples]\n",
        "          Target values.\n",
        "\n",
        "        Returns\n",
        "        -------\n",
        "        self : object\n",
        "\n",
        "        \"\"\"\n",
        "        rgen = np.random.RandomState(self.random_state)\n",
        "        X= np.array(X)   # I change to data to numpy\n",
        "        y = np.array(y)  # I change to data to numpy\n",
        "        self.w_ = rgen.normal(loc=0.0, scale=0.01, size=1 + X.shape[1])\n",
        "        self.errors_ = []\n",
        "\n",
        "\n",
        "        for _ in range(self.n_iter):\n",
        "            errors = 0\n",
        "\n",
        "            for xi, target in zip(X, y):\n",
        "                #update = self.predict(xi) - I commened out here bc target the order should be target-prediction\n",
        "                update = target - self.predict(xi)   # I updated the update.\n",
        "\n",
        "                self.w_[1:] += update * xi * self.eta # I aded learning rate. no affect here since it is 1\n",
        "                self.w_[0] += update * self.eta # I aded learning rate. no affect here since it is 1\n",
        "                #print(f\"update: {update}\")\n",
        "                errors += int(update != 0.0)\n",
        "                #print(f\"errors per data: {errors}\")\n",
        "                self.weight_history_data.append(self.w_.copy())  # I start storing the weights here\n",
        "                #print(f\"updated weigths: {self.weight_history_data}\")\n",
        "\n",
        "            self.errors_.append(errors)\n",
        "            #print(f\"errors per iter: {self.errors_}\")\n",
        "            self.iter_trained += 1  # Increment the iteration counter\n",
        "\n",
        "\n",
        "            if errors == 0: # at this points we can stop since there is no missclassification\n",
        "              print(f\"the number of iterations required for the training: {self.iter_trained}\")\n",
        "\n",
        "              break\n",
        "\n",
        "\n",
        "            ###### New code for doing nothing. - MEH\n",
        "            this_code_does_nothing = True\n",
        "            ######\n",
        "\n",
        "        return self\n",
        "\n",
        "    def net_input(self, X):\n",
        "        \"\"\"Calculate net input\"\"\"\n",
        "        return np.dot(X, self.w_[1:]) + self.w_[0]\n",
        "\n",
        "    def predict(self, X):\n",
        "        \"\"\"Return class label after unit step\"\"\"\n",
        "        return np.where(self.net_input(X) >= 0.0, 1, -1)"
      ],
      "execution_count": null,
      "outputs": []
    },
    {
      "cell_type": "code",
      "source": [
        "## Practicing\n",
        "random_state1 = 42\n",
        "rgen1 = np.random.RandomState(random_state1)\n",
        "print(rgen)\n",
        "w1 = rgen1.normal(loc=0.0, scale=0.01, size=3)\n"
      ],
      "metadata": {
        "colab": {
          "base_uri": "https://localhost:8080/"
        },
        "id": "E64_0_p4qiHr",
        "outputId": "7096c432-a41d-4e44-f77b-16771714f727"
      },
      "execution_count": null,
      "outputs": [
        {
          "output_type": "stream",
          "name": "stdout",
          "text": [
            "RandomState(MT19937)\n"
          ]
        }
      ]
    },
    {
      "cell_type": "code",
      "source": [
        "## Practicing\n",
        "print(w1)"
      ],
      "metadata": {
        "colab": {
          "base_uri": "https://localhost:8080/"
        },
        "id": "RX61XDXHr5WV",
        "outputId": "1c29270c-b9b2-42f2-c792-2c218555bba9"
      },
      "execution_count": null,
      "outputs": [
        {
          "output_type": "stream",
          "name": "stdout",
          "text": [
            "[ 0.00496714 -0.00138264  0.00647689]\n"
          ]
        }
      ]
    },
    {
      "cell_type": "code",
      "source": [
        "## Practicing\n",
        "X_dummy = [[-0.88130512, -1.88478931],\n",
        "    [ 0.15370496, -0.43082738],\n",
        "    [ 1.0445006 ,  0.657627  ]]\n",
        "y_dummy = [1, -1, 1]\n",
        "perceptron1 = Perceptron(n_iter=5, random_state=1)\n",
        "perceptron1.fit(X_dummy, y_dummy)"
      ],
      "metadata": {
        "colab": {
          "base_uri": "https://localhost:8080/"
        },
        "id": "W98qjDQpVmKx",
        "outputId": "9456b567-c36a-4f15-d779-646325d99c80"
      },
      "execution_count": null,
      "outputs": [
        {
          "output_type": "stream",
          "name": "stdout",
          "text": [
            "errors per iter: [2]\n",
            "errors per iter: [2, 3]\n",
            "errors per iter: [2, 3, 2]\n",
            "errors per iter: [2, 3, 2, 2]\n",
            "errors per iter: [2, 3, 2, 2, 1]\n"
          ]
        },
        {
          "output_type": "execute_result",
          "data": {
            "text/plain": [
              "<__main__.Perceptron at 0x78114027fac0>"
            ]
          },
          "metadata": {},
          "execution_count": 208
        }
      ]
    },
    {
      "cell_type": "code",
      "source": [
        "## Practicing\n",
        "perceptron1.errors_, perceptron1.iter_trained, perceptron1.weight_history_data"
      ],
      "metadata": {
        "colab": {
          "base_uri": "https://localhost:8080/"
        },
        "id": "3fu_5X5Px7n8",
        "outputId": "148692da-44bb-4516-8006-83df4260bb98"
      },
      "execution_count": null,
      "outputs": [
        {
          "output_type": "execute_result",
          "data": {
            "text/plain": [
              "([2, 3, 2, 2, 1],\n",
              " 4,\n",
              " [array([0.01624345, 1.19861596, 0.70959684]),\n",
              "  array([0.01624345, 1.19861596, 0.70959684]),\n",
              "  array([0.01624345, 1.19861596, 0.70959684]),\n",
              "  array([0.01624345, 1.19861596, 0.70959684]),\n",
              "  array([0.01624345, 1.19861596, 0.70959684]),\n",
              "  array([0.01624345, 1.19861596, 0.70959684]),\n",
              "  array([0.01624345, 1.19861596, 0.70959684]),\n",
              "  array([0.01624345, 1.19861596, 0.70959684]),\n",
              "  array([0.01624345, 1.19861596, 0.70959684]),\n",
              "  array([0.01624345, 1.19861596, 0.70959684]),\n",
              "  array([0.01624345, 1.19861596, 0.70959684]),\n",
              "  array([0.01624345, 1.19861596, 0.70959684]),\n",
              "  array([0.01624345, 1.19861596, 0.70959684]),\n",
              "  array([0.01624345, 1.19861596, 0.70959684]),\n",
              "  array([0.01624345, 1.19861596, 0.70959684])])"
            ]
          },
          "metadata": {},
          "execution_count": 209
        }
      ]
    },
    {
      "cell_type": "code",
      "source": [
        " ## Practicing\n",
        " X_dummy= np.array(X_dummy)\n",
        " X_dummy, X_dummy.shape\n"
      ],
      "metadata": {
        "colab": {
          "base_uri": "https://localhost:8080/"
        },
        "id": "Pcs6JkOErP_T",
        "outputId": "c1b5ce57-7d82-4b1d-eb63-5df170ac948b"
      },
      "execution_count": null,
      "outputs": [
        {
          "output_type": "execute_result",
          "data": {
            "text/plain": [
              "(array([[-0.88130512, -1.88478931],\n",
              "        [ 0.15370496, -0.43082738],\n",
              "        [ 1.0445006 ,  0.657627  ]]),\n",
              " (3, 2))"
            ]
          },
          "metadata": {},
          "execution_count": 210
        }
      ]
    },
    {
      "cell_type": "code",
      "source": [
        " ## Practicing\n",
        "update1 = 0\n",
        "a =int(update1 != 0.0)\n",
        "a"
      ],
      "metadata": {
        "colab": {
          "base_uri": "https://localhost:8080/"
        },
        "id": "mBtQm-5qYxdu",
        "outputId": "bb85a6b2-b303-4aa0-d07a-c48e5db0ed15"
      },
      "execution_count": null,
      "outputs": [
        {
          "output_type": "execute_result",
          "data": {
            "text/plain": [
              "0"
            ]
          },
          "metadata": {},
          "execution_count": 211
        }
      ]
    },
    {
      "cell_type": "code",
      "source": [
        " ## Practicing\n",
        "random_state1=42\n",
        "a = np.random.RandomState(random_state1)\n"
      ],
      "metadata": {
        "id": "sQ_n1OwgTtBz"
      },
      "execution_count": null,
      "outputs": []
    },
    {
      "cell_type": "code",
      "source": [
        "#Practicing; to make sure I use the correct data\n",
        "y = df.iloc[0:100, 4].values\n",
        "y = np.where(y == 'Iris-setosa', -1, 1)\n",
        "y[:5]"
      ],
      "metadata": {
        "colab": {
          "base_uri": "https://localhost:8080/"
        },
        "id": "r1vPoFv65RMY",
        "outputId": "b14902b6-633e-498c-e8d9-22ef84456e3c"
      },
      "execution_count": null,
      "outputs": [
        {
          "output_type": "execute_result",
          "data": {
            "text/plain": [
              "array([-1, -1, -1, -1, -1])"
            ]
          },
          "metadata": {},
          "execution_count": 213
        }
      ]
    },
    {
      "cell_type": "code",
      "source": [
        "#Practicing; to make sure I use the correct data\n",
        "X = df.iloc[:100, [0, 2]].values\n",
        "X[:3], X.shape"
      ],
      "metadata": {
        "colab": {
          "base_uri": "https://localhost:8080/"
        },
        "id": "ujTBQY666d1m",
        "outputId": "e1c299d3-1c2f-4c3f-f525-9cf86971d3d5"
      },
      "execution_count": null,
      "outputs": [
        {
          "output_type": "execute_result",
          "data": {
            "text/plain": [
              "(array([[5.1, 1.4],\n",
              "        [4.9, 1.4],\n",
              "        [4.7, 1.3]]),\n",
              " (100, 2))"
            ]
          },
          "metadata": {},
          "execution_count": 214
        }
      ]
    },
    {
      "cell_type": "markdown",
      "source": [
        "-----------------------\n",
        "-----------------------\n",
        "-----------------------\n"
      ],
      "metadata": {
        "id": "HJnkSzlLntr7"
      }
    },
    {
      "cell_type": "code",
      "source": [
        "##practicing\n",
        "ppn.errors_"
      ],
      "metadata": {
        "colab": {
          "base_uri": "https://localhost:8080/"
        },
        "id": "91gYBS_D3uPh",
        "outputId": "3b6c2610-3088-41f7-9011-0e4bde210e25"
      },
      "execution_count": null,
      "outputs": [
        {
          "output_type": "execute_result",
          "data": {
            "text/plain": [
              "[4, 5, 5, 5, 4, 2, 3, 2, 3, 2, 3, 3, 2, 3, 1, 0]"
            ]
          },
          "metadata": {},
          "execution_count": 240
        }
      ]
    },
    {
      "cell_type": "code",
      "source": [
        "# practicing\n",
        "learning_rates = [0.00001, 0.0001, 0.01]\n",
        "results = {}\n",
        "\n",
        "for lr in learning_rates:\n",
        "    ppn = Perceptron(eta=lr, n_iter=10, random_state=1)\n",
        "    ppn.fit(X, y)\n",
        "    results[lr] = ppn.iter_trained\n",
        "    print(ppn.errors_)\n",
        "\n",
        "# Display results\n",
        "for lr, iterations in results.items():\n",
        "    print(f'Learning Rate: {lr}, Iterations: {iterations}')"
      ],
      "metadata": {
        "colab": {
          "base_uri": "https://localhost:8080/"
        },
        "id": "WRTIP9Be4e8v",
        "outputId": "bd05087e-bd87-49bb-9527-ec5cf1030528"
      },
      "execution_count": null,
      "outputs": [
        {
          "output_type": "stream",
          "name": "stdout",
          "text": [
            "[40, 32, 30, 26, 24, 21, 19, 17, 15, 14]\n",
            "[4, 5, 5, 5, 4, 2, 3, 2, 3, 2]\n",
            "the number of iterations required for the training: 5\n",
            "[1, 3, 3, 2, 1, 0]\n",
            "Learning Rate: 1e-05, Iterations: 9\n",
            "Learning Rate: 0.0001, Iterations: 9\n",
            "Learning Rate: 0.01, Iterations: 5\n"
          ]
        }
      ]
    },
    {
      "cell_type": "code",
      "source": [
        "# practicing\n",
        "random_states = [1, 42]  # Different random states\n",
        "patterns = {}\n",
        "\n",
        "for r in random_states:\n",
        "    ppn = Perceptron(eta=0.01, n_iter=20, random_state=r)\n",
        "    ppn.fit(X, y)\n",
        "    patterns[r] = ppn.errors_\n",
        "    print(ppn.errors_)\n",
        "\n",
        "# Display results\n",
        "for r, error in patterns.items():\n",
        "    print(f'Learning Rate: {r}, Iterations: {error}')\n"
      ],
      "metadata": {
        "colab": {
          "base_uri": "https://localhost:8080/"
        },
        "id": "6yXTSVq2itat",
        "outputId": "7c32e2ac-d223-45f8-87e2-a6e42f994a3c"
      },
      "execution_count": null,
      "outputs": [
        {
          "output_type": "stream",
          "name": "stdout",
          "text": [
            "the number of iterations required for the training: 5\n",
            "[1, 3, 3, 2, 1, 0]\n",
            "the number of iterations required for the training: 5\n",
            "[2, 2, 3, 2, 1, 0]\n",
            "Learning Rate: 1, Iterations: [1, 3, 3, 2, 1, 0]\n",
            "Learning Rate: 42, Iterations: [2, 2, 3, 2, 1, 0]\n"
          ]
        }
      ]
    },
    {
      "cell_type": "code",
      "source": [
        "# practicing\n",
        "learning_rates = [0.00001, 0.0001, 0.01]\n",
        "results = {}\n",
        "\n",
        "for lr in learning_rates:\n",
        "    ppn = Perceptron(eta=lr, n_iter=20, random_state=1)\n",
        "    ppn.fit(X, y)\n",
        "    results[lr] = ppn.iter_trained\n",
        "    print(ppn.errors_)\n",
        "\n",
        "# Display results\n",
        "for lr, iterations in results.items():\n",
        "    print(f'Learning Rate: {lr}, Iterations: {iterations}')"
      ],
      "metadata": {
        "colab": {
          "base_uri": "https://localhost:8080/"
        },
        "id": "rTNXjuXqO8cS",
        "outputId": "0546e268-07f3-4024-a69e-0624630fa355"
      },
      "execution_count": null,
      "outputs": [
        {
          "output_type": "stream",
          "name": "stdout",
          "text": [
            "[40, 32, 30, 26, 24, 21, 19, 17, 15, 14, 12, 11, 10, 9, 8, 8, 6, 6, 5, 5]\n",
            "the number of iterations required for the training: 15\n",
            "[4, 5, 5, 5, 4, 2, 3, 2, 3, 2, 3, 3, 2, 3, 1, 0]\n",
            "the number of iterations required for the training: 5\n",
            "[1, 3, 3, 2, 1, 0]\n",
            "Learning Rate: 1e-05, Iterations: 19\n",
            "Learning Rate: 0.0001, Iterations: 15\n",
            "Learning Rate: 0.01, Iterations: 5\n"
          ]
        }
      ]
    },
    {
      "cell_type": "code",
      "source": [
        "# practicing\n",
        "learning_rates = [0.00001, 0.0001,  0.01]\n",
        "results = {}\n",
        "\n",
        "for lr in learning_rates:\n",
        "    ppn = Perceptron(eta=lr, n_iter=30, random_state=1)\n",
        "    ppn.fit(X, y)\n",
        "    results[lr] = ppn.iter_trained\n",
        "    print(ppn.errors_)\n",
        "\n",
        "# Display results\n",
        "for lr, iterations in results.items():\n",
        "    print(f'Learning Rate: {lr}, Iterations: {iterations}')"
      ],
      "metadata": {
        "colab": {
          "base_uri": "https://localhost:8080/"
        },
        "id": "PRh4jFMtPLK-",
        "outputId": "1f44430a-2073-4f21-c2a1-e4db4d451c9f"
      },
      "execution_count": null,
      "outputs": [
        {
          "output_type": "stream",
          "name": "stdout",
          "text": [
            "[40, 32, 30, 26, 24, 21, 19, 17, 15, 14, 12, 11, 10, 9, 8, 8, 6, 6, 5, 5, 6, 5, 4, 3, 3, 4, 4, 2, 3, 3]\n",
            "the number of iterations required for the training: 15\n",
            "[4, 5, 5, 5, 4, 2, 3, 2, 3, 2, 3, 3, 2, 3, 1, 0]\n",
            "the number of iterations required for the training: 5\n",
            "[1, 3, 3, 2, 1, 0]\n",
            "Learning Rate: 1e-05, Iterations: 29\n",
            "Learning Rate: 0.0001, Iterations: 15\n",
            "Learning Rate: 0.01, Iterations: 5\n"
          ]
        }
      ]
    },
    {
      "cell_type": "code",
      "source": [
        "# practicing\n",
        "learning_rates = [0.00001, 0.0001, 0.01]\n",
        "results = {}\n",
        "\n",
        "for lr in learning_rates:\n",
        "    ppn = Perceptron(eta=lr, n_iter=40, random_state=1)\n",
        "    ppn.fit(X, y)\n",
        "    results[lr] = ppn.iter_trained\n",
        "    print(ppn.errors_)\n",
        "\n",
        "# Display results\n",
        "for lr, iterations in results.items():\n",
        "    print(f'Learning Rate: {lr}, Iterations: {iterations}')"
      ],
      "metadata": {
        "colab": {
          "base_uri": "https://localhost:8080/"
        },
        "id": "cDxpUjd0PN7s",
        "outputId": "71214917-cc2a-4b19-bf0f-4d6181ddc8ee"
      },
      "execution_count": null,
      "outputs": [
        {
          "output_type": "stream",
          "name": "stdout",
          "text": [
            "the number of iterations required for the training: 39\n",
            "[40, 32, 30, 26, 24, 21, 19, 17, 15, 14, 12, 11, 10, 9, 8, 8, 6, 6, 5, 5, 6, 5, 4, 3, 3, 4, 4, 2, 3, 3, 3, 2, 3, 3, 2, 3, 3, 3, 1, 0]\n",
            "the number of iterations required for the training: 15\n",
            "[4, 5, 5, 5, 4, 2, 3, 2, 3, 2, 3, 3, 2, 3, 1, 0]\n",
            "the number of iterations required for the training: 5\n",
            "[1, 3, 3, 2, 1, 0]\n",
            "Learning Rate: 1e-05, Iterations: 39\n",
            "Learning Rate: 0.0001, Iterations: 15\n",
            "Learning Rate: 0.01, Iterations: 5\n"
          ]
        }
      ]
    },
    {
      "cell_type": "code",
      "metadata": {
        "id": "xYEgTzp0s5BN"
      },
      "source": [
        "from matplotlib.colors import ListedColormap\n",
        "\n",
        "\n",
        "def plot_decision_regions(X, y, classifier, resolution=0.02):\n",
        "\n",
        "    # setup marker generator and color map\n",
        "    markers = ('s', 'o', 'P', '^', 'v')\n",
        "    colors = ('red', 'blue', 'lightgreen', 'gray', 'cyan')\n",
        "    cmap = ListedColormap(colors[:len(np.unique(y))])\n",
        "\n",
        "    # plot the decision surface\n",
        "    x1_min, x1_max = X[:, 0].min() - 5, X[:, 0].max() + 5\n",
        "    x2_min, x2_max = X[:, 1].min() - 5, X[:, 1].max() + 5\n",
        "    xx1, xx2 = np.meshgrid(np.arange(x1_min, x1_max, resolution),\n",
        "                           np.arange(x2_min, x2_max, resolution))\n",
        "    Z = classifier.predict(np.array([xx1.ravel(), xx2.ravel()]).T)\n",
        "    Z = Z.reshape(xx1.shape)\n",
        "    plt.contourf(xx1, xx2, Z, alpha=0.3, cmap=cmap)\n",
        "    plt.xlim(xx1.min(), xx1.max())\n",
        "    plt.ylim(xx2.min(), xx2.max())\n",
        "\n",
        "    # plot class examples\n",
        "    for idx, cl in enumerate(np.unique(y)):\n",
        "        plt.scatter(x=X[y == cl, 0],\n",
        "                    y=X[y == cl, 1],\n",
        "                    alpha=0.8,\n",
        "                    c=colors[idx],\n",
        "                    marker=markers[idx],\n",
        "                    label=cl,\n",
        "                    edgecolor='black')"
      ],
      "execution_count": null,
      "outputs": []
    },
    {
      "cell_type": "code",
      "metadata": {
        "id": "BuQZjt4Ls5BP",
        "outputId": "1bae53bb-89b4-4724-c357-8836d0283427",
        "colab": {
          "base_uri": "https://localhost:8080/",
          "height": 453
        }
      },
      "source": [
        "plot_decision_regions(X, y, classifier=ppn)\n",
        "plt.xlabel('sepal length [cm]')\n",
        "plt.ylabel('petal length [cm]')\n",
        "plt.legend(loc='upper left')\n",
        "\n",
        "\n",
        "# plt.savefig('images/02_08.png', dpi=300)\n",
        "plt.show()"
      ],
      "execution_count": null,
      "outputs": [
        {
          "output_type": "display_data",
          "data": {
            "text/plain": [
              "<Figure size 640x480 with 1 Axes>"
            ],
            "image/png": "[encoded data removed]"
          },
          "metadata": {}
        }
      ]
    },
    {
      "cell_type": "code",
      "metadata": {
        "id": "ELrAxgSMs5BR",
        "colab": {
          "base_uri": "https://localhost:8080/",
          "height": 470
        },
        "outputId": "0d31534d-7988-4a07-f061-5977427393b6"
      },
      "source": [
        "ppn_3 = Perceptron(eta=0.005, n_iter=10, random_state=3)\n",
        "ppn_3.fit(X, y)\n",
        "plot_decision_regions(X, y, classifier= ppn_3)\n",
        "plt.xlabel('sepal length [cm]')\n",
        "plt.ylabel('petal length [cm]')\n",
        "plt.legend(loc='upper left')\n",
        "\n",
        "\n",
        "plt.show()"
      ],
      "execution_count": null,
      "outputs": [
        {
          "output_type": "stream",
          "name": "stdout",
          "text": [
            "the number of iterations required for the training: 4\n"
          ]
        },
        {
          "output_type": "display_data",
          "data": {
            "text/plain": [
              "<Figure size 640x480 with 1 Axes>"
            ],
            "image/png": "[encoded data removed]"
          },
          "metadata": {}
        }
      ]
    },
    {
      "cell_type": "code",
      "metadata": {
        "id": "p7vn0JpBs5BV",
        "colab": {
          "base_uri": "https://localhost:8080/"
        },
        "outputId": "18333f1f-a16b-4d31-df35-d04f2a72d16f"
      },
      "source": [
        "#establish a random shuffle\n",
        "s = np.arange(10)\n",
        "print(s)\n",
        "np.random.shuffle(s)\n",
        "#shuffle sample\n",
        "X_shuffle = X[s];\n",
        "y_shuffle = y[s];\n",
        "print(X_shuffle)\n",
        "print(y_shuffle)"
      ],
      "execution_count": null,
      "outputs": [
        {
          "output_type": "stream",
          "name": "stdout",
          "text": [
            "[0 1 2 3 4 5 6 7 8 9]\n",
            "[[4.9 1.4]\n",
            " [4.7 1.3]\n",
            " [4.4 1.4]\n",
            " [4.6 1.4]\n",
            " [5.  1.5]\n",
            " [4.6 1.5]\n",
            " [5.1 1.4]\n",
            " [5.  1.4]\n",
            " [5.4 1.7]\n",
            " [4.9 1.5]]\n",
            "[-1 -1 -1 -1 -1 -1 -1 -1 -1 -1]\n"
          ]
        }
      ]
    },
    {
      "cell_type": "code",
      "metadata": {
        "id": "uL1T1_7As5BZ",
        "colab": {
          "base_uri": "https://localhost:8080/",
          "height": 466
        },
        "outputId": "6db46555-5ef8-4892-8f8a-eb52723c6aaf"
      },
      "source": [
        "ppn.fit(X, y)\n",
        "\n",
        "plt.plot(range(1, len(ppn.errors_) + 1), ppn.errors_, marker='o')\n",
        "plt.xlabel('Epochs')\n",
        "plt.ylabel('Number of updates')\n",
        "\n",
        "# plt.savefig('images/02_07.png', dpi=300)\n",
        "plt.show()"
      ],
      "execution_count": null,
      "outputs": [
        {
          "output_type": "stream",
          "name": "stdout",
          "text": [
            "the number of iterations required for the training: 17\n"
          ]
        },
        {
          "output_type": "display_data",
          "data": {
            "text/plain": [
              "<Figure size 640x480 with 1 Axes>"
            ],
            "image/png": "[encoded data removed]"
          },
          "metadata": {}
        }
      ]
    },
    {
      "cell_type": "code",
      "source": [
        "##practice\n",
        "import numpy as np\n",
        "import matplotlib.pyplot as plt\n",
        "from sklearn.utils import shuffle\n",
        "from matplotlib.colors import ListedColormap\n",
        "ppn = Perceptron(eta=0.001, n_iter=50, random_state=3)\n",
        "\n",
        "# Train on original data\n",
        "ppn.fit(X, y)\n",
        "original_errors = ppn.errors_  # Store the errors for original data\n",
        "\n",
        "# Shuffle the data\n",
        "X_shuffled, y_shuffled = shuffle(X, y, random_state=3)\n",
        "\n",
        "\n",
        "ppn_shuffled = Perceptron(eta=0.001, n_iter=50, random_state=3)\n",
        "\n",
        "# Train on shuffled data\n",
        "ppn_shuffled.fit(X_shuffled, y_shuffled)\n",
        "shuffled_errors = ppn_shuffled.errors_  # Store the errors for shuffled data\n",
        "\n",
        "# Plot the error for both training processes\n",
        "plt.plot(range(1, len(original_errors) + 1), original_errors, marker='o', label='Original Data')\n",
        "plt.plot(range(1, len(shuffled_errors) + 1), shuffled_errors, marker='x', label='Shuffled Data')\n",
        "plt.xlabel('Epochs')\n",
        "plt.ylabel('Number of updates')\n",
        "plt.title('Error Comparison between Original and Shuffled Data')\n",
        "plt.legend()\n",
        "plt.grid()\n",
        "plt.show()\n"
      ],
      "metadata": {
        "colab": {
          "base_uri": "https://localhost:8080/",
          "height": 507
        },
        "id": "lfGUAvy5pm1g",
        "outputId": "4d4cc383-7e99-48b1-e9fa-b021eb339446"
      },
      "execution_count": null,
      "outputs": [
        {
          "output_type": "stream",
          "name": "stdout",
          "text": [
            "the number of iterations required for the training: 5\n",
            "the number of iterations required for the training: 1\n"
          ]
        },
        {
          "output_type": "display_data",
          "data": {
            "text/plain": [
              "<Figure size 640x480 with 1 Axes>"
            ],
            "image/png": "[encoded data removed]"
          },
          "metadata": {}
        }
      ]
    },
    {
      "cell_type": "code",
      "source": [
        "## Practicing :  Ipractice here how plow 2 different dataset: originial and transformed\n",
        "X.shape, y.shape\n",
        "a=1.0000001\n",
        "b=1.00000000005\n",
        "c=0.0001\n",
        "\n",
        "X[:3]"
      ],
      "metadata": {
        "colab": {
          "base_uri": "https://localhost:8080/"
        },
        "id": "ldw6YyGFriN5",
        "outputId": "70ac69d4-f210-422f-f624-f95ff066dfc5"
      },
      "execution_count": null,
      "outputs": [
        {
          "output_type": "execute_result",
          "data": {
            "text/plain": [
              "array([[5.1, 1.4],\n",
              "       [4.9, 1.4],\n",
              "       [4.7, 1.3]])"
            ]
          },
          "metadata": {},
          "execution_count": 316
        }
      ]
    },
    {
      "cell_type": "code",
      "source": [
        "## Practicing\n",
        "X_trannsformed = np.array([[a*x[0] - c, b*x[1]-c] for x in X])\n",
        "X_trannsformed[:3]"
      ],
      "metadata": {
        "colab": {
          "base_uri": "https://localhost:8080/"
        },
        "id": "_5oBGrpBspCS",
        "outputId": "cd43f246-0765-4ff1-cb6d-c5611a3aaeb0"
      },
      "execution_count": null,
      "outputs": [
        {
          "output_type": "execute_result",
          "data": {
            "text/plain": [
              "array([[5.09990051, 1.3999    ],\n",
              "       [4.89990049, 1.3999    ],\n",
              "       [4.69990047, 1.2999    ]])"
            ]
          },
          "metadata": {},
          "execution_count": 324
        }
      ]
    },
    {
      "cell_type": "code",
      "source": [
        "## Practicing\n",
        "X_trannsformed.shape"
      ],
      "metadata": {
        "colab": {
          "base_uri": "https://localhost:8080/"
        },
        "id": "KM-FxeikuLCj",
        "outputId": "1917c783-8350-4d95-9088-d02579020d65"
      },
      "execution_count": null,
      "outputs": [
        {
          "output_type": "execute_result",
          "data": {
            "text/plain": [
              "(100, 2)"
            ]
          },
          "metadata": {},
          "execution_count": 325
        }
      ]
    },
    {
      "cell_type": "code",
      "source": [
        "# practicing\n",
        "#I just copied and pasted the code aboce we used before here:\n",
        "\n",
        "plt.scatter(X[:50, 0], X[:50, 1],\n",
        "            color='red', marker='o', label='setosa')\n",
        "plt.scatter(X[50:100, 0], X[50:100, 1],\n",
        "            color='blue', marker='x', label='versicolor')\n",
        "\n",
        "plt.xlabel('sepal length [cm]')\n",
        "plt.ylabel('petal length [cm]')\n",
        "plt.legend(loc='upper left')\n",
        "\n",
        "\n",
        "# plt.savefig('images/02_06.png', dpi=300)\n",
        "plt.show()"
      ],
      "metadata": {
        "colab": {
          "base_uri": "https://localhost:8080/",
          "height": 449
        },
        "id": "qR2iwsvQtCkL",
        "outputId": "29f3750d-c492-462d-a305-cd2b038be8fd"
      },
      "execution_count": null,
      "outputs": [
        {
          "output_type": "display_data",
          "data": {
            "text/plain": [
              "<Figure size 640x480 with 1 Axes>"
            ],
            "image/png": "[encoded data removed]"
          },
          "metadata": {}
        }
      ]
    },
    {
      "cell_type": "code",
      "source": [
        "# practicing\n",
        "plt.scatter(X_trannsformed[:50, 0], X_trannsformed[:50, 1],\n",
        "            color='red', marker='o', label='setosa')\n",
        "plt.scatter(X_trannsformed[50:100, 0], X_trannsformed[50:100, 1],\n",
        "            color='blue', marker='x', label='versicolor')\n",
        "\n",
        "plt.xlabel('sepal length [cm]')\n",
        "plt.ylabel('petal length [cm]')\n",
        "plt.legend(loc='upper left')\n",
        "\n",
        "plt.show()"
      ],
      "metadata": {
        "colab": {
          "base_uri": "https://localhost:8080/",
          "height": 449
        },
        "id": "VO6H7ICetO7m",
        "outputId": "3855dfd7-077d-4749-cbe8-33d37819a9d7"
      },
      "execution_count": null,
      "outputs": [
        {
          "output_type": "display_data",
          "data": {
            "text/plain": [
              "<Figure size 640x480 with 1 Axes>"
            ],
            "image/png": "[encoded data removed]"
          },
          "metadata": {}
        }
      ]
    }
  ]
}